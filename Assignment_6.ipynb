{
  "nbformat": 4,
  "nbformat_minor": 0,
  "metadata": {
    "colab": {
      "name": "Assignment_6",
      "provenance": [],
      "authorship_tag": "ABX9TyMxuJRzytQ2hnBORS54bBv5",
      "include_colab_link": true
    },
    "kernelspec": {
      "name": "python3",
      "display_name": "Python 3"
    }
  },
  "cells": [
    {
      "cell_type": "markdown",
      "metadata": {
        "id": "view-in-github",
        "colab_type": "text"
      },
      "source": [
        "<a href=\"https://colab.research.google.com/github/alibyte/warehouse/blob/master/Assignment_6.ipynb\" target=\"_parent\"><img src=\"https://colab.research.google.com/assets/colab-badge.svg\" alt=\"Open In Colab\"/></a>"
      ]
    },
    {
      "cell_type": "code",
      "metadata": {
        "id": "qC3GHiwk1aqH",
        "colab_type": "code",
        "colab": {
          "base_uri": "https://localhost:8080/",
          "height": 35
        },
        "outputId": "2d76e302-7562-469f-9a7f-83c6d228b010"
      },
      "source": [
        "import array, numpy as np\n",
        "\n",
        "testLine = [12, 23, 450, 600, 78, 900, 600, 800, 20, 10]\n",
        "\n",
        "def writeFile(text):\n",
        "    with open(\"file.txt\", \"w\") as outputFile:\n",
        "        string = map(str, text)\n",
        "        for x in string:\n",
        "            outputFile.write(x)\n",
        "            outputFile.write(\" \")\n",
        "def readFile():\n",
        "    with open(\"file.txt\", \"r\") as inputFile:\n",
        "        total = inputFile.read()\n",
        "        splitter = total.split(\" \")\n",
        "        splitter = splitter[:-1]\n",
        "        splitter = list(map(int, splitter))\n",
        "        fileArray = np.array(splitter)\n",
        "        fileArray[fileArray > 100] = 100\n",
        "        finalString = map(str, fileArray)\n",
        "        print(fileArray)\n",
        "    with open(\"file.txt\", \"w\") as outputFile:\n",
        "        for x in finalString:\n",
        "            outputFile.write(x)\n",
        "            outputFile.write(\" \")\n",
        "\n",
        "#call the functions:\n",
        "\n",
        "writeFile(testLine)\n",
        "readFile()\n",
        "\n"
      ],
      "execution_count": 8,
      "outputs": [
        {
          "output_type": "stream",
          "text": [
            "[ 12  23 100 100  78 100 100 100  20  10]\n"
          ],
          "name": "stdout"
        }
      ]
    },
    {
      "cell_type": "code",
      "metadata": {
        "id": "upcfIXh-JR5e",
        "colab_type": "code",
        "colab": {}
      },
      "source": [
        "import random\n",
        "\n",
        "\n",
        "studentList = [(\"Rick Deckard\", \"RD123\"), (\"Officer K\", \"OK234\"), (\"Rachel\", \"RC345\"), (\"Mod Ash\", \"MA456\"), (\"Zulrah\", \"ZR567\"), \n",
        "            (\"Vorkath\", \"VK678\"), (\"Sarachnis\", \"SC789\"), (\"Zezima\", \"ZZ890\"), (\"Gustav Ahr\", \"GA901\"), (\"John Wayne\", \"JW012\")]\n",
        "\n",
        "            \n",
        "#can copy lots from first code\n",
        "\n",
        "def writeFile(studentList):\n",
        "    with open(\"studentFile.txt\", \"w\") as outputFile:\n",
        "        for studentName in studentList:\n",
        "            studentName = str(studentName)\n",
        "            outputFile.write(studentName)\n",
        "            outputFile.write(\"\\n\")\n",
        "def readFile():\n",
        "    with open(\"studentFile.txt\", \"r\") as studentNamer:\n",
        "        reader = studentNamer.readlines()\n",
        "    with open(\"roster.txt\", \"w\") as outputFile:\n",
        "        first_num = random.randint(0, 10)\n",
        "        second_num = random.randint(0,1)\n",
        "        third_num = random.randint(20,20)\n",
        "        picker = reader[first_num][second_num:third_num]\n",
        "        outputFile.write(picker)\n",
        "\n",
        "#call the functions:\n",
        "writeFile(studentList)\n",
        "readFile()\n"
      ],
      "execution_count": 0,
      "outputs": []
    }
  ]
}