{
  "nbformat": 4,
  "nbformat_minor": 0,
  "metadata": {
    "colab": {
      "name": "Assignment_4",
      "provenance": [],
      "authorship_tag": "ABX9TyP/+N5FpasOpJMdsh5pgxj/",
      "include_colab_link": true
    },
    "kernelspec": {
      "name": "python3",
      "display_name": "Python 3"
    }
  },
  "cells": [
    {
      "cell_type": "markdown",
      "metadata": {
        "id": "view-in-github",
        "colab_type": "text"
      },
      "source": [
        "<a href=\"https://colab.research.google.com/github/alibyte/warehouse/blob/master/Assignment_4.ipynb\" target=\"_parent\"><img src=\"https://colab.research.google.com/assets/colab-badge.svg\" alt=\"Open In Colab\"/></a>"
      ]
    },
    {
      "cell_type": "code",
      "metadata": {
        "id": "bkQEJG4qCGlC",
        "colab_type": "code",
        "colab": {}
      },
      "source": [
        "def file(fileinfo):\n",
        "    check = True\n",
        "    while check:\n",
        "        i = 1\n",
        "        if (i == 1):\n",
        "            ext = fileinfo.rfind(\".\")\n",
        "        if ext > 0:\n",
        "            print(fileinfo[ext + 1:])\n",
        "            check = False\n",
        "        elif ext < 0:\n",
        "            print(\"Error\")\n",
        "            fileinfo = input(\"File: \")\n",
        "        i = 2\n",
        "\n",
        "fileinfo = input(\"Enter a file for info:\")\n",
        "file(fileinfo)"
      ],
      "execution_count": 0,
      "outputs": []
    },
    {
      "cell_type": "code",
      "metadata": {
        "id": "0e0RNGmmCtWE",
        "colab_type": "code",
        "colab": {}
      },
      "source": [
        "import turtle\n",
        "\n",
        "\n",
        "def drawSquares(turt, side):\n",
        "    for x in range(4):\n",
        "        turt.forward(side)\n",
        "        turt.left(90)\n",
        "\n",
        "\n",
        "window = turtle.Screen()\n",
        "window.bgcolor(\"Blue\")\n",
        "turt = turtle.Turtle()\n",
        "offset = -20\n",
        "\n",
        "for x in range(40, 202, 40):\n",
        "    drawSquares(turt, x)\n",
        "    turt.penup()\n",
        "    turt.goto(offset, offset)\n",
        "    turt.pendown()\n",
        "    offset=offset-20\n",
        "\n",
        "window.mainloop()"
      ],
      "execution_count": 0,
      "outputs": []
    },
    {
      "cell_type": "code",
      "metadata": {
        "id": "yxm1MHe9z4qr",
        "colab_type": "code",
        "colab": {
          "base_uri": "https://localhost:8080/",
          "height": 90
        },
        "outputId": "c4e089ae-2020-489d-b4b3-0193517514dd"
      },
      "source": [
        "def replace(x,original,final):\n",
        "  current=x.find(original)\n",
        "  while current != -1:\n",
        "    x=x[:current] + final + x[current + 1:]\n",
        "  return x\n",
        "\n",
        "x=input(\"Initial:\")\n",
        "original = input(\"letter to replace:\")\n",
        "final = input(\"letter to replace with:\")\n",
        "\n",
        "done=replace(x,original,final)\n",
        "\n",
        "print(done)"
      ],
      "execution_count": 7,
      "outputs": [
        {
          "output_type": "stream",
          "text": [
            "Initial:howdy\n",
            "letter to replace:i\n",
            "letter to replace with:y\n",
            "howdy\n"
          ],
          "name": "stdout"
        }
      ]
    },
    {
      "cell_type": "code",
      "metadata": {
        "id": "SFLh_Wb41BLp",
        "colab_type": "code",
        "colab": {}
      },
      "source": [
        "import turtle\n",
        "\n",
        "def randomTurt(num):\n",
        "    for i in range(num):\n",
        "        turt.forward(i)\n",
        "        turt.left(90)\n",
        "window = turtle.Screen()\n",
        "turt = turtle.Turtle()\n",
        "number = 100\n",
        "randomTurt(num)\n",
        "\n",
        "window.mainloop()"
      ],
      "execution_count": 0,
      "outputs": []
    }
  ]
}