{
  "nbformat": 4,
  "nbformat_minor": 0,
  "metadata": {
    "colab": {
      "name": "Assignment8.ipynb",
      "provenance": [],
      "authorship_tag": "ABX9TyNfTCShrDRkhKNHNS/iWa/2",
      "include_colab_link": true
    },
    "kernelspec": {
      "name": "python3",
      "display_name": "Python 3"
    }
  },
  "cells": [
    {
      "cell_type": "markdown",
      "metadata": {
        "id": "view-in-github",
        "colab_type": "text"
      },
      "source": [
        "<a href=\"https://colab.research.google.com/github/alibyte/warehouse/blob/master/Assignment8.ipynb\" target=\"_parent\"><img src=\"https://colab.research.google.com/assets/colab-badge.svg\" alt=\"Open In Colab\"/></a>"
      ]
    },
    {
      "cell_type": "markdown",
      "metadata": {
        "id": "MK7vBAHanxG7",
        "colab_type": "text"
      },
      "source": [
        "having issues with home python setup; i will complete other assignments on time, this one is not complete yet. thank you"
      ]
    },
    {
      "cell_type": "code",
      "metadata": {
        "id": "iEZ31dX8k5hn",
        "colab_type": "code",
        "colab": {}
      },
      "source": [
        "class rectangleOOP:\n",
        "  def __init__ (self, x=0,y=0):\n",
        "    self.x = x\n",
        "    self.y =y\n",
        "  \n",
        "  def radius(self):\n",
        "    return ((self.x * self.x) + (self.y * self.y))"
      ],
      "execution_count": 0,
      "outputs": []
    }
  ]
}