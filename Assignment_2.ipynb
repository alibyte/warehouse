{
  "nbformat": 4,
  "nbformat_minor": 0,
  "metadata": {
    "colab": {
      "name": "Assignment 2.ipynb",
      "provenance": [],
      "authorship_tag": "ABX9TyON/LAECsFlB3D2iE08U7nl",
      "include_colab_link": true
    },
    "kernelspec": {
      "name": "python3",
      "display_name": "Python 3"
    }
  },
  "cells": [
    {
      "cell_type": "markdown",
      "metadata": {
        "id": "view-in-github",
        "colab_type": "text"
      },
      "source": [
        "<a href=\"https://colab.research.google.com/github/alibyte/warehouse/blob/master/Assignment_2.ipynb\" target=\"_parent\"><img src=\"https://colab.research.google.com/assets/colab-badge.svg\" alt=\"Open In Colab\"/></a>"
      ]
    },
    {
      "cell_type": "code",
      "metadata": {
        "id": "z5wRVdEtU4Tw",
        "colab_type": "code",
        "colab": {
          "base_uri": "https://localhost:8080/",
          "height": 34
        },
        "outputId": "549df629-ee6e-4a42-a2f6-8522b96ec6f8"
      },
      "source": [
        "#really sloppy code, sorry\n",
        "a=\"All\"\n",
        "b=\"work\"\n",
        "c=\"and\"\n",
        "d=\"no\"\n",
        "e=\"play\"\n",
        "f=\"makes\"\n",
        "g=\"Jack\"\n",
        "h=\"a\"\n",
        "i=\"dull\"\n",
        "j=\"boy.\"\n",
        "spc=\" \"\n",
        "print(a + spc + b + spc + c + spc + d + spc + e + spc + f + spc + g + spc + h + spc + i + spc + j)"
      ],
      "execution_count": 3,
      "outputs": [
        {
          "output_type": "stream",
          "text": [
            "All work and no play makes Jack a dull boy.\n"
          ],
          "name": "stdout"
        }
      ]
    },
    {
      "cell_type": "code",
      "metadata": {
        "id": "e48qJZ4hV6pX",
        "colab_type": "code",
        "colab": {
          "base_uri": "https://localhost:8080/",
          "height": 68
        },
        "outputId": "1a2cfa41-919e-4749-be3f-6066a9c3cb4a"
      },
      "source": [
        "a=int(input(\"insert variable A. :\"))\n",
        "b=int(input(\"insert variable B. :\"))\n",
        "alg1=(3.14*(1+a/b))\n",
        "#use modulo to get cube root\n",
        "S= alg1 ** (1. / 3)\n",
        "\n",
        "print(S)"
      ],
      "execution_count": 11,
      "outputs": [
        {
          "output_type": "stream",
          "text": [
            "insert variable A.11111\n",
            "insert variable B.932903213\n",
            "1.464350163991328\n"
          ],
          "name": "stdout"
        }
      ]
    }
  ]
}