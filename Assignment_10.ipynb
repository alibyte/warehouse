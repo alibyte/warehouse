{
  "nbformat": 4,
  "nbformat_minor": 0,
  "metadata": {
    "colab": {
      "name": "Assignment_10",
      "provenance": [],
      "authorship_tag": "ABX9TyN4oKie0hm03xnpAWmbZqFp",
      "include_colab_link": true
    },
    "kernelspec": {
      "name": "python3",
      "display_name": "Python 3"
    }
  },
  "cells": [
    {
      "cell_type": "markdown",
      "metadata": {
        "id": "view-in-github",
        "colab_type": "text"
      },
      "source": [
        "<a href=\"https://colab.research.google.com/github/alibyte/warehouse/blob/master/Assignment_10.ipynb\" target=\"_parent\"><img src=\"https://colab.research.google.com/assets/colab-badge.svg\" alt=\"Open In Colab\"/></a>"
      ]
    },
    {
      "cell_type": "code",
      "metadata": {
        "id": "MM_eS3vPfyiu",
        "colab_type": "code",
        "colab": {}
      },
      "source": [
        "import pymysql\n",
        "db = pymysql.connect(\"localhost\",\n",
        "                     \"root\", \n",
        "                     \"alpine\", \n",
        "                     \"world\")\n",
        "cur = db.cursor()\n",
        "cur2 = db.cursor\n",
        "#populates list to fetch from\n",
        "def fetchAll():\n",
        "    cur.execute(\"SELECT name FROM world.country;\")\n",
        "    dump = cur.fetchall()\n",
        "    print(\"Country\")\n",
        "    print(\"\\n\")\n",
        "    for x in dump:\n",
        "        print(str(x[0]))\n",
        "    print(\"\\n\")\n",
        "    cur.close()\n",
        "#grabs fetched\n",
        "def fetchOne(name):\n",
        "    sql = \"SELECT Name From world.country WHERE name =%s\"\n",
        "    cur2.execute(sql, name)\n",
        "    dump2 = cur2.fetchone()\n",
        "    print(\"Country Name\")\n",
        "    print(\"/n\")\n",
        "    for x in dump2:\n",
        "        print(str(x))\n",
        "    print(\"/n\")\n",
        "    cur2.close()\n",
        "name = str(input(\"Enter country name to populate: \"))\n",
        "fetchAll()\n",
        "fetchOne(name)\n",
        "db.close()"
      ],
      "execution_count": 0,
      "outputs": []
    }
  ]
}