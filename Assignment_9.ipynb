{
  "nbformat": 4,
  "nbformat_minor": 0,
  "metadata": {
    "colab": {
      "name": "Assignment_9",
      "provenance": [],
      "authorship_tag": "ABX9TyPfLQ3+fObHk2vvMWBCM1oB",
      "include_colab_link": true
    },
    "kernelspec": {
      "name": "python3",
      "display_name": "Python 3"
    }
  },
  "cells": [
    {
      "cell_type": "markdown",
      "metadata": {
        "id": "view-in-github",
        "colab_type": "text"
      },
      "source": [
        "<a href=\"https://colab.research.google.com/github/alibyte/warehouse/blob/master/Assignment_9.ipynb\" target=\"_parent\"><img src=\"https://colab.research.google.com/assets/colab-badge.svg\" alt=\"Open In Colab\"/></a>"
      ]
    },
    {
      "cell_type": "code",
      "metadata": {
        "id": "k5v9pOOhUwgq",
        "colab_type": "code",
        "colab": {
          "base_uri": "https://localhost:8080/",
          "height": 35
        },
        "outputId": "e9998c9c-6da8-4e26-ed60-0e280d0f1bd6"
      },
      "source": [
        "class MyTime():\n",
        "    def __init__(self, hour=0, minute=0, second=0):\n",
        "        total = hour * 3600 + minute * 60 + second\n",
        "        self.hour = total // 3600\n",
        "        leftover = total % 3600\n",
        "        self.minute = leftover // 60\n",
        "        self.second = leftover % 60\n",
        "    def __add__(self, other):\n",
        "        return MyTime(0, 0, self.toSeconds() + other.toSeconds())    \n",
        "    def timeCompare(self, timeInstance):\n",
        "        hoursInMinutes = (time1.hour - timeInstance.hour) * 60\n",
        "        minute = (time1.minute - timeInstance.minute)\n",
        "        secondsinMinutes = (time1.second - timeInstance.second) / 60\n",
        "        totalDiff = hoursInMinutes + minute + secondsinMinutes\n",
        "        return totalDiff\n",
        "\n",
        "time1 = MyTime(11, 20, 43)\n",
        "time2 = MyTime(10, 20, 30)\n",
        "\n",
        "print(\"The interval minutes are about:\", time1.timeCompare(time2))"
      ],
      "execution_count": 28,
      "outputs": [
        {
          "output_type": "stream",
          "text": [
            "The interval minutes are about: 60.21666666666667\n"
          ],
          "name": "stdout"
        }
      ]
    },
    {
      "cell_type": "code",
      "metadata": {
        "id": "89oEsqaccR7O",
        "colab_type": "code",
        "colab": {
          "base_uri": "https://localhost:8080/",
          "height": 72
        },
        "outputId": "5da48e69-dc54-4b0b-83b7-2191a2220562"
      },
      "source": [
        "class Card:\n",
        "#init card list and suits\n",
        "    suits = [\"Clubs\", \"Diamonds\", \"Hearts\", \"Spades\"]\n",
        "    ranks = [\"Joker\", \"Ace\", \"2\", \"3\", \"4\", \"5\", \"6\", \"7\", \"8\", \"9\", \"10\", \"Jack\", \"Queen\", \"King\"]\n",
        "    def __gt__(self, other):\n",
        "        return self.cmp(other) > 0\n",
        "    def __init__(self, suit=0, rank=0):\n",
        "        self.suit = suit\n",
        "        self.rank = rank\n",
        "    def __str__(self):\n",
        "        return (self.ranks[self.rank] + \" of \" + self.suits[self.suit])\n",
        "    def cmp(self, other): \n",
        "        if self.rank > other.rank:\n",
        "            if self.rank == 13 and other.rank == 1:\n",
        "                return -1\n",
        "            else:\n",
        "                return 1\n",
        "        if self.rank < other.rank:\n",
        "            if self.rank == 1 and other.rank == 13:\n",
        "                return 1\n",
        "            else:\n",
        "                return -1\n",
        "        if self.suit > other.suit: return 1\n",
        "        if self.suit < other.suit: return -1\n",
        "        return 0\n",
        "\n",
        "#call cards       \n",
        "card1 = Card(3, 5)\n",
        "card2 = Card(2, 1)\n",
        "print(\"First card:\",card1)\n",
        "print(\"Second card:\",card2)\n",
        "print(\"Are aces ranked higher?\", card1 > card2)"
      ],
      "execution_count": 54,
      "outputs": [
        {
          "output_type": "stream",
          "text": [
            "First card: 5 of Spades\n",
            "Second card: Ace of Hearts\n",
            "Are aces ranked higher? True\n"
          ],
          "name": "stdout"
        }
      ]
    },
    {
      "cell_type": "code",
      "metadata": {
        "id": "MHOvRsgUd1Zy",
        "colab_type": "code",
        "colab": {
          "base_uri": "https://localhost:8080/",
          "height": 72
        },
        "outputId": "bf1cba41-86f0-405c-e073-696b20470ec9"
      },
      "source": [
        "def readposint():\n",
        "    ui=int(input(\"Input a negative integer: \"))\n",
        "    if ui<=0:\n",
        "        error=ValueError(\"{0} is not negative\".format(ui))\n",
        "        raise error\n",
        "    return ui\n",
        "try:\n",
        "    print(readposint())\n",
        "except ValueError:\n",
        "    print(\"Negative int detected.\")\n",
        "    ui = int(input(\"Input a positive integer: \"))\n",
        "    if ui<=0:\n",
        "        error = ValueError(\"{0} is not a positive number\".format(ui))\n",
        "        raise error"
      ],
      "execution_count": 71,
      "outputs": [
        {
          "output_type": "stream",
          "text": [
            "Input a negative integer: -3\n",
            "Negative int detected.\n",
            "Input a positive integer: 4\n"
          ],
          "name": "stdout"
        }
      ]
    }
  ]
}