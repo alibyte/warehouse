{
  "nbformat": 4,
  "nbformat_minor": 0,
  "metadata": {
    "colab": {
      "name": "Assignment_7.ipynb",
      "provenance": [],
      "authorship_tag": "ABX9TyOnFrkf8Nc6kR2Ot3MttGK7",
      "include_colab_link": true
    },
    "kernelspec": {
      "name": "python3",
      "display_name": "Python 3"
    }
  },
  "cells": [
    {
      "cell_type": "markdown",
      "metadata": {
        "id": "view-in-github",
        "colab_type": "text"
      },
      "source": [
        "<a href=\"https://colab.research.google.com/github/alibyte/warehouse/blob/master/Assignment_7.ipynb\" target=\"_parent\"><img src=\"https://colab.research.google.com/assets/colab-badge.svg\" alt=\"Open In Colab\"/></a>"
      ]
    },
    {
      "cell_type": "code",
      "metadata": {
        "id": "FVkDWhRHMsek",
        "colab_type": "code",
        "colab": {}
      },
      "source": [
        "#copied code from assignment 4\n",
        "\n",
        "import turtle\n",
        "import math\n",
        "\n",
        "#draw window\n",
        "window = turtle.Screen()\n",
        "window.bgcolor(\"Blue\")\n",
        "turt = turtle.Turtle()\n",
        "\n",
        "def drawTurtle(turt, count, number):\n",
        "    for x in range(4):\n",
        "        turt.forward(number)\n",
        "        turt.left(90)\n",
        "\n",
        "    number=2*30+number\n",
        "    turt.right(135)\n",
        "    turt.penup()\n",
        "    turt.forward(math.sqrt(2*30**2))\n",
        "    turt.pendown()\n",
        "    turt.left(135)\n",
        "    number = number + 1\n",
        "    if number <= 5:\n",
        "        return\n",
        "\n",
        "\n",
        "#init turtle\n",
        "    drawTurtle(turt,count,number)\n",
        "\n",
        "\n",
        "\n",
        "#draw functions\n",
        "drawTurtle(turt, 30, 1)\n",
        "window.mainloop()\n",
        "\n"
      ],
      "execution_count": 0,
      "outputs": []
    },
    {
      "cell_type": "code",
      "metadata": {
        "id": "DENvw29kUI_s",
        "colab_type": "code",
        "colab": {
          "base_uri": "https://localhost:8080/",
          "height": 35
        },
        "outputId": "cca13049-842f-4f2f-ea6d-b5eea4472920"
      },
      "source": [
        "#initialize nested list\n",
        "listed = [1, 1, 2, 3, [4, 11, [6, 8, [1, 2, [6, 3, 3, 4], 3, 4], 8, 9, 10], 11, 5], 3, 14]\n",
        "number = 1\n",
        "iteration = 0\n",
        "\n",
        "def nestList(listed,number,iteration):\n",
        "  init = True\n",
        "  for x in listed:\n",
        "    if type(x) is list:\n",
        "      val = nestList(x,number,iteration)\n",
        "      if val == number:\n",
        "          iteration=iteration+1\n",
        "    else:\n",
        "      val = x\n",
        "      iteration = iteration\n",
        "    if val == number:\n",
        "      iteration = iteration+1\n",
        "    if init:\n",
        "      iteration=iteration+1\n",
        "      init=False\n",
        "    else:\n",
        "      iteration = iteration\n",
        "  return iteration\n",
        "\n",
        "\n",
        "print(nestList(listed,number,iteration))\n"
      ],
      "execution_count": 16,
      "outputs": [
        {
          "output_type": "stream",
          "text": [
            "3\n"
          ],
          "name": "stdout"
        }
      ]
    }
  ]
}