{
  "nbformat": 4,
  "nbformat_minor": 0,
  "metadata": {
    "colab": {
      "name": "Assignment_8.ipynb",
      "provenance": [],
      "authorship_tag": "ABX9TyOQo8heGKVHimC3XWPtYH2+",
      "include_colab_link": true
    },
    "kernelspec": {
      "name": "python3",
      "display_name": "Python 3"
    }
  },
  "cells": [
    {
      "cell_type": "markdown",
      "metadata": {
        "id": "view-in-github",
        "colab_type": "text"
      },
      "source": [
        "<a href=\"https://colab.research.google.com/github/alibyte/warehouse/blob/master/Assignment_8.ipynb\" target=\"_parent\"><img src=\"https://colab.research.google.com/assets/colab-badge.svg\" alt=\"Open In Colab\"/></a>"
      ]
    },
    {
      "cell_type": "code",
      "metadata": {
        "id": "b31gdQmqOCS9",
        "colab_type": "code",
        "outputId": "1db8fb71-b838-49b2-cfc3-90a3ac839e30",
        "colab": {
          "base_uri": "https://localhost:8080/",
          "height": 54
        }
      },
      "source": [
        "#can reuse lots of code from chapter 4\n",
        "\n",
        "class Point:\n",
        "    def __init__(self, x=0, y=0):\n",
        "        self.x = x\n",
        "        self.y = y\n",
        "    def __str__(self):\n",
        "        return \"({0},{1})\".format(self.x, self.y)\n",
        "    def reflect_x(self):\n",
        "        y = self.y\n",
        "        x = self.x\n",
        "        newy=0-y\n",
        "        if x < 0:\n",
        "            newx = x\n",
        "            newy=0-y\n",
        "            return Point(newx,newy)\n",
        "        return Point(x,newy)\n",
        "def pointPrint(pt):\n",
        "    print(\"({0},{1})\".format(pt.x, pt.y))\n",
        "#init variables\n",
        "p = Point()\n",
        "q = Point(3, 4)\n",
        "reflected = Point(3, -4)\n",
        "print(\"Point is:\",reflected)\n",
        "print(\"Point reflected over X:\",reflected.reflect_x())"
      ],
      "execution_count": 1,
      "outputs": [
        {
          "output_type": "stream",
          "text": [
            "Point is: (3,-4)\n",
            "Point reflected over X: (3,4)\n"
          ],
          "name": "stdout"
        }
      ]
    },
    {
      "cell_type": "code",
      "metadata": {
        "id": "LuKy7-vyTv5P",
        "colab_type": "code",
        "colab": {}
      },
      "source": [
        "#!pip install Point kept crashing Colab"
      ],
      "execution_count": 0,
      "outputs": []
    }
  ]
}