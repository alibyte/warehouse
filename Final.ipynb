{
  "nbformat": 4,
  "nbformat_minor": 0,
  "metadata": {
    "colab": {
      "name": "Final",
      "provenance": [],
      "authorship_tag": "ABX9TyNtfYDyI7ACMOKPVDMDZ2IM",
      "include_colab_link": true
    },
    "kernelspec": {
      "name": "python3",
      "display_name": "Python 3"
    }
  },
  "cells": [
    {
      "cell_type": "markdown",
      "metadata": {
        "id": "view-in-github",
        "colab_type": "text"
      },
      "source": [
        "<a href=\"https://colab.research.google.com/github/alibyte/warehouse/blob/master/Final.ipynb\" target=\"_parent\"><img src=\"https://colab.research.google.com/assets/colab-badge.svg\" alt=\"Open In Colab\"/></a>"
      ]
    },
    {
      "cell_type": "markdown",
      "metadata": {
        "id": "6urZAKHl5uZL",
        "colab_type": "text"
      },
      "source": [
        "Olsen Final Intro to Python\n"
      ]
    },
    {
      "cell_type": "markdown",
      "metadata": {
        "id": "-2clIb985zXP",
        "colab_type": "text"
      },
      "source": [
        "Assignment 1"
      ]
    },
    {
      "cell_type": "code",
      "metadata": {
        "id": "3IazBemj5sM3",
        "colab_type": "code",
        "colab": {
          "base_uri": "https://localhost:8080/",
          "height": 54
        },
        "outputId": "dc997e41-e9a7-4329-b36d-233263a890ad"
      },
      "source": [
        "val = str(input(\"please input a string:\"))\n",
        "\n",
        "def printString(val):\n",
        "    return val\n",
        "\n",
        "print(printString(val))"
      ],
      "execution_count": 5,
      "outputs": [
        {
          "output_type": "stream",
          "text": [
            "please input a string:hello world!\n",
            "hello world!\n"
          ],
          "name": "stdout"
        }
      ]
    },
    {
      "cell_type": "markdown",
      "metadata": {
        "id": "n8xm7G6s6d9D",
        "colab_type": "text"
      },
      "source": [
        "Assignment 2\n"
      ]
    },
    {
      "cell_type": "code",
      "metadata": {
        "id": "hzFEMR_Y6fY7",
        "colab_type": "code",
        "colab": {
          "base_uri": "https://localhost:8080/",
          "height": 35
        },
        "outputId": "988c3464-4e77-429d-edbb-dfc8f4d2e4f0"
      },
      "source": [
        "def findEvens():\n",
        "  total = 0\n",
        "  for x in range(1,1001):\n",
        "    if x%2 == 0:\n",
        "      total=total+x\n",
        "  return(total)\n",
        "print(findEvens())"
      ],
      "execution_count": 14,
      "outputs": [
        {
          "output_type": "stream",
          "text": [
            "250500\n"
          ],
          "name": "stdout"
        }
      ]
    },
    {
      "cell_type": "markdown",
      "metadata": {
        "id": "85apZM0n65Yn",
        "colab_type": "text"
      },
      "source": [
        "Assignment 3"
      ]
    },
    {
      "cell_type": "code",
      "metadata": {
        "id": "LbUpt-zW6432",
        "colab_type": "code",
        "colab": {
          "base_uri": "https://localhost:8080/",
          "height": 35
        },
        "outputId": "25258b5d-0fb9-4ef0-8673-2bf62e3c304e"
      },
      "source": [
        "numlist = [12, 10, 3, 2, [6, [7, 8, 9], 19, 21], 21]\n",
        "\n",
        "def findProduct(digit):\n",
        "  prod = 1\n",
        "  for x in digit:\n",
        "    if (type(x) == type([])):\n",
        "      prod = prod * findProduct(x)\n",
        "    else:\n",
        "      prod = prod * x\n",
        "  return prod\n",
        "\n",
        "findProduct(numlist)"
      ],
      "execution_count": 21,
      "outputs": [
        {
          "output_type": "execute_result",
          "data": {
            "text/plain": [
              "18243429120"
            ]
          },
          "metadata": {
            "tags": []
          },
          "execution_count": 21
        }
      ]
    },
    {
      "cell_type": "markdown",
      "metadata": {
        "id": "_bmTRKYUDqIa",
        "colab_type": "text"
      },
      "source": [
        "Assignment 4"
      ]
    },
    {
      "cell_type": "code",
      "metadata": {
        "id": "nMhlYDHyDr3V",
        "colab_type": "code",
        "colab": {}
      },
      "source": [
        "import numpy as np\n",
        "\n",
        "mat=[[23,43,12],[32,12,52],[15,35,52],[19,28,56]]\n",
        "\n",
        "def matTransform(mat):\n",
        "  matarray = np.array(mat)\n",
        "  matarray[matarray >20]=0\n",
        "\n",
        "  with open(\"final.txt\",\"w\") as outputfile:\n",
        "    for finished in matarray:\n",
        "      str(finished)\n",
        "      outputfile.writelines(f'{finished}\\n')\n",
        "matTransform(mat)\n",
        "\n",
        "#output of above:\n",
        "\n",
        "#[ 0  0 12]\n",
        "#[ 0 12  0]\n",
        "#[15  0  0]\n",
        "#[19  0  0]\n"
      ],
      "execution_count": 0,
      "outputs": []
    },
    {
      "cell_type": "markdown",
      "metadata": {
        "id": "kDbdVDtmzYsE",
        "colab_type": "text"
      },
      "source": [
        "Assignment 5"
      ]
    },
    {
      "cell_type": "code",
      "metadata": {
        "id": "pcwKinzBzqXW",
        "colab_type": "code",
        "colab": {
          "base_uri": "https://localhost:8080/",
          "height": 127
        },
        "outputId": "bc06e263-a7d6-4dec-b087-5becd74c33c7"
      },
      "source": [
        "numList=[1,3,2,4,2,3,2,2,3,2,2,4,2,32,3,2,4,2,3,5,3,2,4,2,2,4,2,2,4,2,2,3,1,3,2,3]\n",
        "\n",
        "def frequency(numList):\n",
        "  tempdict={}\n",
        "  for x in range(len(numList)):\n",
        "    tempdict[numList[x]] = numList.count(numList[x])\n",
        "  for k, value in tempdict.items():\n",
        "    print(k,value)\n",
        "\n",
        "frequency(numList)"
      ],
      "execution_count": 15,
      "outputs": [
        {
          "output_type": "stream",
          "text": [
            "1 2\n",
            "3 9\n",
            "2 17\n",
            "4 6\n",
            "32 1\n",
            "5 1\n"
          ],
          "name": "stdout"
        }
      ]
    },
    {
      "cell_type": "markdown",
      "metadata": {
        "id": "E2eucDWZ0iUH",
        "colab_type": "text"
      },
      "source": [
        "Assignment 6"
      ]
    },
    {
      "cell_type": "code",
      "metadata": {
        "id": "uXLaySsl0js2",
        "colab_type": "code",
        "colab": {
          "base_uri": "https://localhost:8080/",
          "height": 35
        },
        "outputId": "d4e3fda2-bdcf-41ff-9ce5-4d387673702d"
      },
      "source": [
        "\n",
        "\n",
        "class Point:\n",
        "  def __str__(self):\n",
        "    return \"({0},{1})\".format(self.x, self.y)\n",
        "\n",
        "  def __init__(self,x=0,y=0):\n",
        "    self.x=x\n",
        "    self.y=y\n",
        "  \n",
        "  def pointInit(self,p1,p2):\n",
        "    x=p1.x+p2.x\n",
        "    y=p1.y+p2.y\n",
        "    return(x,y)\n",
        "\n",
        "\n",
        "testPoint1 = Point(1,3)\n",
        "testPoint2 = Point(3,4)\n",
        "\n",
        "print(\"Point location: \", Point().pointInit(testPoint1,testPoint2))\n",
        "\n"
      ],
      "execution_count": 23,
      "outputs": [
        {
          "output_type": "stream",
          "text": [
            "Point location:  (4, 7)\n"
          ],
          "name": "stdout"
        }
      ]
    },
    {
      "cell_type": "markdown",
      "metadata": {
        "id": "wsSKORrl3a9M",
        "colab_type": "text"
      },
      "source": [
        "Assignment 7"
      ]
    },
    {
      "cell_type": "code",
      "metadata": {
        "id": "VWpSm9rM3cv6",
        "colab_type": "code",
        "colab": {}
      },
      "source": [
        "import pandas as pd\n",
        "import datetime\n",
        "\n",
        "\n",
        "def tally(reading=True):\n",
        "    excelFile = \"catering_sale_all.xls\"\n",
        "    fileRead = pd.read_excel(excelFile)\n",
        "    types = []\n",
        "\n",
        "    for x in fileRead:\n",
        "        types.append(x)\n",
        "\n",
        "    selection = []\n",
        "\n",
        "    while reading == True:\n",
        "        print(\"0 to exit\")\n",
        "        for x in selection:\n",
        "            selection.remove(x)\n",
        "        for x in range(1, 11):\n",
        "            print(x, types[x])\n",
        "        ui = int(input(\"Enter food ID: \"))\n",
        "        if ui == 0:\n",
        "            reading = False\n",
        "        else:\n",
        "            for x in types:\n",
        "                if types.index(x) == ui:\n",
        "                    selection.append(x)\n",
        "            tally = fileRead[selection].sum()\n",
        "            print(\"Total: \", tally)\n",
        "        return\n",
        "\n",
        "\n",
        "tally()\n",
        "\n",
        "#output:\n",
        "#0 to exit\n",
        "#1 chicken feet\n",
        "#2 steamed dumplings\n",
        "#3 ribs\n",
        "#4 full chicken\n",
        "#5 stuffed bun\n",
        "#6 flowering cabbage\n",
        "#7 doufu\n",
        "#8 chive dumplings\n",
        "#9 pudding\n",
        "#10 original cabbage\n",
        "#Enter food ID: 3\n",
        "#Total:  ribs    280\n",
        "#dtype: int64"
      ],
      "execution_count": 0,
      "outputs": []
    },
    {
      "cell_type": "markdown",
      "metadata": {
        "id": "Zk0kJ2F77bd8",
        "colab_type": "text"
      },
      "source": [
        "Assignment 8"
      ]
    },
    {
      "cell_type": "code",
      "metadata": {
        "id": "YHZYm4eq7ckl",
        "colab_type": "code",
        "colab": {}
      },
      "source": [
        "import pymysql\n",
        "\n",
        "def conn():\n",
        "  db = pymysql.connect(host='localhost',\n",
        "                       user='root',\n",
        "                       password='alpine',\n",
        "                       db='db')\n",
        "  return db\n",
        "\n",
        "def lifeAvg(db):\n",
        "  cur=db.cursor()\n",
        "  sql = \"Select AVG(LifeExpectancy),Continent FROM Country GROUP BY Continent\"\n",
        "  cur.execute(sql)\n",
        "  dump=cur.fetchall()\n",
        "  print(\"Average Life : Continent\")\n",
        "  for x in list(dump):\n",
        "    print(x[0],\" : \",x[1])\n",
        "\n",
        "db = conn()\n",
        "lifeAvg(db)"
      ],
      "execution_count": 0,
      "outputs": []
    },
    {
      "cell_type": "markdown",
      "metadata": {
        "id": "5KWceq4u9XNC",
        "colab_type": "text"
      },
      "source": [
        "Assignment 9"
      ]
    },
    {
      "cell_type": "code",
      "metadata": {
        "id": "AdCTt4b09YKh",
        "colab_type": "code",
        "colab": {}
      },
      "source": [
        "import pymysql, matplotlib.pyplot\n",
        "\n",
        "#luckily a lot can be copied over from the previous assignment.\n",
        "\n",
        "def conn():\n",
        "  db = pymysql.connect(host='localhost',\n",
        "                       user='root',\n",
        "                       password='alpine',\n",
        "                       db='db')\n",
        "  return db\n",
        "\n",
        "def popTotal(db):\n",
        "  cur=db.cursor()\n",
        "  sql = \"Select SUM(Population),Continent FROM Country GROUP BY Continent\"\n",
        "  cur.execute(sql)\n",
        "  dump=cur.fetchall()\n",
        "\n",
        "  fig(1,figsize=(6,6))\n",
        "\n",
        "  pop=[]\n",
        "  loc=[]\n",
        "\n",
        "  for x in dump:\n",
        "    pop.append(x[0])\n",
        "    loc.append(x[1])\n",
        "\n",
        "\n",
        "  pie(portion,explode=0.1,labels=(Continent,Population))\n",
        "  title(\"Pop by Continent\")\n",
        "  \n",
        "  return pyplot.show()\n",
        "\n",
        "  db = conn()\n",
        "  popTotal(db)"
      ],
      "execution_count": 0,
      "outputs": []
    },
    {
      "cell_type": "markdown",
      "metadata": {
        "id": "eBOSS2-C_nk0",
        "colab_type": "text"
      },
      "source": [
        "Assignment 10"
      ]
    },
    {
      "cell_type": "code",
      "metadata": {
        "id": "5tkLveCI_nTB",
        "colab_type": "code",
        "colab": {}
      },
      "source": [
        "import pandas as pd\n",
        "import matplotlib.pyplot\n",
        "\n",
        "def fileRead(year):\n",
        "  dump = pd.read_csv(\"energy-production.csv\")\n",
        "  Row = dump[dump['Year']==year]\n",
        "  Row = Row.drop(columns=['Unnamed: 0','Year'],axis=1)\n",
        "  y=[]\n",
        "  x=[]\n",
        "  for k,values in Row.items():\n",
        "    for x in values:\n",
        "      y.append(x)\n",
        "  for i in Row:\n",
        "    x.append(i)\n",
        "  pyplot.bar(x,y)\n",
        "  pyplot.xticks(x,ha='right')\n",
        "  return pyplot.show()\n",
        "\n",
        "year = int(input(\"Input a year: \"))\n",
        "fileRead(year)\n",
        "\n"
      ],
      "execution_count": 0,
      "outputs": []
    }
  ]
}